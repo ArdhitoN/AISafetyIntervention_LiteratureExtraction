{
 "cells": [
  {
   "cell_type": "markdown",
   "metadata": {},
   "source": [
    "# Cosine-Based Embedding Matcher for NodeViewForComparison\n",
    "\n",
    "This notebook implements a cosine similarity-based matcher for `NodeViewForComparison` objects.\n",
    "The implementation:\n",
    "1. Applies a generic encoder to create embeddings for all nodes\n",
    "2. Compares nodes using cosine similarity\n",
    "3. Groups similar nodes based on a threshold\n",
    "4. Provides visualization of similarity matrices and groups\n"
   ]
  },
  {
   "cell_type": "code",
   "execution_count": 9,
   "metadata": {},
   "outputs": [
    {
     "name": "stdout",
     "output_type": "stream",
     "text": [
      "✓ All packages imported successfully\n"
     ]
    }
   ],
   "source": [
    "# Import required packages (managed by uv.lock)\n",
    "import json\n",
    "import numpy as np\n",
    "from pathlib import Path\n",
    "from typing import Dict, List, Tuple, Optional\n",
    "import sys\n",
    "import os\n",
    "\n",
    "# ML and visualization imports\n",
    "from sentence_transformers import SentenceTransformer\n",
    "from sklearn.metrics.pairwise import cosine_similarity\n",
    "import matplotlib.pyplot as plt\n",
    "import seaborn as sns\n",
    "\n",
    "print(\"✓ All packages imported successfully\")"
   ]
  },
  {
   "cell_type": "code",
   "execution_count": 10,
   "metadata": {},
   "outputs": [
    {
     "name": "stdout",
     "output_type": "stream",
     "text": [
      "/Users/shipsy/Documents/research/AISafetyIntervention_LiteratureExtraction\n",
      "✓ Local modules imported successfully\n"
     ]
    }
   ],
   "source": [
    "# Add the project path to import local modules\n",
    "project_root = Path(\n",
    "    \"/Users/shipsy/Documents/research/AISafetyIntervention_LiteratureExtraction\"\n",
    ")\n",
    "if str(project_root) not in sys.path:\n",
    "    sys.path.insert(0, str(project_root))\n",
    "\n",
    "print(project_root)\n",
    "\n",
    "# Import local types\n",
    "\n",
    "# Set style\n",
    "plt.style.use(\"default\")\n",
    "sns.set_palette(\"husl\")\n",
    "\n",
    "print(\"✓ Local modules imported successfully\")"
   ]
  },
  {
   "cell_type": "code",
   "execution_count": 11,
   "metadata": {},
   "outputs": [
    {
     "data": {
      "text/plain": [
       "PosixPath('/Users/shipsy/Documents/research/AISafetyIntervention_LiteratureExtraction')"
      ]
     },
     "execution_count": 11,
     "metadata": {},
     "output_type": "execute_result"
    }
   ],
   "source": [
    "project_root"
   ]
  },
  {
   "cell_type": "markdown",
   "metadata": {},
   "source": [
    "## 1. Encoder Implementation\n",
    "\n",
    "We'll create a generic encoder that converts `NodeViewForComparison` objects into embeddings.\n"
   ]
  },
  {
   "cell_type": "code",
   "execution_count": 15,
   "metadata": {},
   "outputs": [],
   "source": [
    "from src.merge_types import NodeAggregate\n",
    "from src.merge_input_builder import _node_view\n",
    "\n",
    "\n",
    "class NodeEmbedding:\n",
    "    def __init__(self, embedding: np.ndarray, node_key: str):\n",
    "        self.embedding = embedding\n",
    "        self.node_key = node_key\n",
    "\n",
    "\n",
    "class NodeEncoder:\n",
    "    def __init__(self, model_name: str = \"all-MiniLM-L6-v2\"):\n",
    "        self.model = SentenceTransformer(model_name)\n",
    "        self.model_name = model_name\n",
    "\n",
    "    def extract_embedding_from_merge_index(self, path: str) -> NodeEmbedding:\n",
    "        merge_index_dict = json.load(open(path))[\"nodes\"]\n",
    "        node_embeddings = {}\n",
    "        for key, node in merge_index_dict.items():\n",
    "            node_aggregate = NodeAggregate(**node)\n",
    "            node_view = _node_view(node_aggregate)\n",
    "            embedding = self.model.encode(node_view.text)\n",
    "            node_embeddings[key] = NodeEmbedding(embedding, key)\n",
    "        return node_embeddings"
   ]
  },
  {
   "cell_type": "code",
   "execution_count": null,
   "metadata": {},
   "outputs": [],
   "source": [
    "node_encoder = NodeEncoder()"
   ]
  },
  {
   "cell_type": "code",
   "execution_count": 17,
   "metadata": {},
   "outputs": [],
   "source": [
    "result = node_encoder.extract_embedding_from_merge_index(\n",
    "    os.path.join(project_root, \"merge_index.json\")\n",
    ")"
   ]
  },
  {
   "cell_type": "markdown",
   "metadata": {},
   "source": [
    "## 2. Cosine Similarity Matcher\n",
    "\n",
    "Implementation of the cosine similarity matcher with threshold-based matching.\n"
   ]
  },
  {
   "cell_type": "code",
   "execution_count": 18,
   "metadata": {},
   "outputs": [
    {
     "name": "stdout",
     "output_type": "stream",
     "text": [
      "✓ CosineSimilarityMatcher implementation complete\n"
     ]
    }
   ],
   "source": [
    "class CosineSimilarityMatcher:\n",
    "    \"\"\"Cosine similarity matcher for node embeddings\"\"\"\n",
    "\n",
    "    def __init__(self, threshold: float = 0.8):\n",
    "        \"\"\"Initialize with similarity threshold\"\"\"\n",
    "        self.threshold = threshold\n",
    "        self.embeddings: Dict[str, NodeEmbedding] = {}\n",
    "        self.similarity_matrix: Optional[np.ndarray] = None\n",
    "        self.keys: List[str] = []\n",
    "\n",
    "    def add_embeddings(self, embeddings: Dict[str, NodeEmbedding]):\n",
    "        \"\"\"Add embeddings to the matcher\"\"\"\n",
    "        self.embeddings.update(embeddings)\n",
    "        self.keys = list(self.embeddings.keys())\n",
    "        self._compute_similarity_matrix()\n",
    "\n",
    "    def _compute_similarity_matrix(self):\n",
    "        \"\"\"Compute the full similarity matrix\"\"\"\n",
    "        if not self.embeddings:\n",
    "            return\n",
    "\n",
    "        # Extract embeddings in order\n",
    "        embedding_matrix = np.array(\n",
    "            [self.embeddings[key].embedding for key in self.keys]\n",
    "        )\n",
    "\n",
    "        # Compute cosine similarity\n",
    "        self.similarity_matrix = cosine_similarity(embedding_matrix)\n",
    "\n",
    "    def get_similarity(self, key_a: str, key_b: str) -> float:\n",
    "        \"\"\"Get similarity between two nodes\"\"\"\n",
    "        if key_a not in self.embeddings or key_b not in self.embeddings:\n",
    "            raise ValueError(f\"One or both keys not found: {key_a}, {key_b}\")\n",
    "\n",
    "        idx_a = self.keys.index(key_a)\n",
    "        idx_b = self.keys.index(key_b)\n",
    "\n",
    "        return self.similarity_matrix[idx_a, idx_b]\n",
    "\n",
    "    def is_match(self, key_a: str, key_b: str) -> bool:\n",
    "        \"\"\"Check if two nodes match based on threshold\"\"\"\n",
    "        return self.get_similarity(key_a, key_b) >= self.threshold\n",
    "\n",
    "    def find_matches(self, key: str) -> List[Tuple[str, float]]:\n",
    "        \"\"\"Find all matches for a given node\"\"\"\n",
    "        if key not in self.embeddings:\n",
    "            raise ValueError(f\"Key not found: {key}\")\n",
    "\n",
    "        idx = self.keys.index(key)\n",
    "        similarities = self.similarity_matrix[idx]\n",
    "\n",
    "        matches = []\n",
    "        for i, sim in enumerate(similarities):\n",
    "            if i != idx and sim >= self.threshold:  # Exclude self\n",
    "                matches.append((self.keys[i], sim))\n",
    "\n",
    "        # Sort by similarity descending\n",
    "        matches.sort(key=lambda x: x[1], reverse=True)\n",
    "        return matches\n",
    "\n",
    "    def get_top_similarities(self, key: str, top_k: int = 5) -> List[Tuple[str, float]]:\n",
    "        \"\"\"Get top k most similar nodes (excluding self)\"\"\"\n",
    "        if key not in self.embeddings:\n",
    "            raise ValueError(f\"Key not found: {key}\")\n",
    "\n",
    "        idx = self.keys.index(key)\n",
    "        similarities = self.similarity_matrix[idx]\n",
    "\n",
    "        # Get indices of top similarities (excluding self)\n",
    "        similarities_copy = similarities.copy()\n",
    "        similarities_copy[idx] = -1  # Exclude self\n",
    "\n",
    "        top_indices = np.argsort(similarities_copy)[-top_k:][::-1]\n",
    "\n",
    "        return [(self.keys[i], similarities[i]) for i in top_indices]\n",
    "\n",
    "\n",
    "print(\"✓ CosineSimilarityMatcher implementation complete\")"
   ]
  },
  {
   "cell_type": "code",
   "execution_count": 19,
   "metadata": {},
   "outputs": [],
   "source": [
    "cosine_similarity_matcher = CosineSimilarityMatcher()\n",
    "\n",
    "cosine_similarity_matcher.add_embeddings(result)"
   ]
  },
  {
   "cell_type": "code",
   "execution_count": 20,
   "metadata": {},
   "outputs": [
    {
     "data": {
      "text/plain": [
       "[('second-order false label belief task', np.float32(0.93368787)),\n",
       " ('first-order false recommendation belief task', np.float32(0.7736164)),\n",
       " ('second-order false recommendation belief task', np.float32(0.7175852)),\n",
       " ('first-order deception task (label)', np.float32(0.71718884)),\n",
       " ('second-order deception task (label)', np.float32(0.64300597))]"
      ]
     },
     "execution_count": 20,
     "metadata": {},
     "output_type": "execute_result"
    }
   ],
   "source": [
    "cosine_similarity_matcher.get_top_similarities(\"first-order false label belief task\", 5)"
   ]
  },
  {
   "cell_type": "markdown",
   "metadata": {},
   "source": [
    "## 3. Group Building Algorithm\n",
    "\n",
    "Iterative group building algorithm that creates groups of similar nodes.\n"
   ]
  },
  {
   "cell_type": "markdown",
   "metadata": {},
   "source": []
  },
  {
   "cell_type": "markdown",
   "metadata": {},
   "source": []
  }
 ],
 "metadata": {
  "kernelspec": {
   "display_name": ".venv",
   "language": "python",
   "name": "python3"
  },
  "language_info": {
   "codemirror_mode": {
    "name": "ipython",
    "version": 3
   },
   "file_extension": ".py",
   "mimetype": "text/x-python",
   "name": "python",
   "nbconvert_exporter": "python",
   "pygments_lexer": "ipython3",
   "version": "3.11.6"
  }
 },
 "nbformat": 4,
 "nbformat_minor": 2
}
