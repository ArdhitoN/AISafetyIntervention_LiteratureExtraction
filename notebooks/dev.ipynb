{
 "cells": [
  {
   "cell_type": "code",
   "execution_count": 2,
   "id": "6f984882-183a-4d5f-999a-bcb9faac93a6",
   "metadata": {},
   "outputs": [
    {
     "name": "stdout",
     "output_type": "stream",
     "text": [
      "/home/eamag/AISafetyIntervention_LiteratureExtraction\n"
     ]
    }
   ],
   "source": [
    "%cd ..\n",
    "%load_ext autoreload\n",
    "%autoreload 2"
   ]
  },
  {
   "cell_type": "code",
   "execution_count": 3,
   "id": "2aa64191-b7b1-40b7-a491-3f2c322847a9",
   "metadata": {},
   "outputs": [],
   "source": [
    "from src.extract import Extractor, OUTPUT_DIR, INPUT_DIR\n",
    "\n",
    "ext = Extractor()\n",
    "ext.ensure_dir(OUTPUT_DIR)\n",
    "input_dir = INPUT_DIR"
   ]
  },
  {
   "cell_type": "code",
   "execution_count": null,
   "id": "446d0b3e-1798-45f9-af56-7250368dfc23",
   "metadata": {},
   "outputs": [],
   "source": [
    "pdfs = sorted(input_dir.glob(\"*.pdf\"))"
   ]
  },
  {
   "cell_type": "code",
   "execution_count": null,
   "id": "5a150a76",
   "metadata": {},
   "outputs": [],
   "source": [
    "pdf_path = pdfs[0]"
   ]
  },
  {
   "cell_type": "code",
   "execution_count": null,
   "id": "55eff7ce",
   "metadata": {},
   "outputs": [],
   "source": [
    "file_id = ext.upload_pdf_get_id(pdf_path)\n",
    "messages = ext.build_user_input(file_id)"
   ]
  },
  {
   "cell_type": "code",
   "execution_count": null,
   "id": "8635f877",
   "metadata": {},
   "outputs": [],
   "source": [
    "resp = ext.call_openai(messages)"
   ]
  },
  {
   "cell_type": "code",
   "execution_count": null,
   "id": "6f6d2003",
   "metadata": {},
   "outputs": [],
   "source": [
    "# dump raw response to file\n",
    "with open(f\"output/{pdf_path.stem}_raw_response.json\", \"w\") as f:\n",
    "    f.write(resp.model_dump_json())"
   ]
  },
  {
   "cell_type": "code",
   "execution_count": null,
   "id": "437103c5",
   "metadata": {},
   "outputs": [],
   "source": [
    "output_parsed = resp.output_parsed\n",
    "with open(f\"output/{pdf_path.stem}.json\", \"w\") as f:\n",
    "    f.write(output_parsed.model_dump_json(indent=2))"
   ]
  },
  {
   "cell_type": "code",
   "execution_count": 4,
   "id": "403f3bf0",
   "metadata": {},
   "outputs": [],
   "source": [
    "        output_parsed_paths = sorted(OUTPUT_DIR.glob(\"*.json\"))\n"
   ]
  },
  {
   "cell_type": "code",
   "execution_count": null,
   "id": "3dbe9d9b",
   "metadata": {},
   "outputs": [],
   "source": []
  }
 ],
 "metadata": {
  "kernelspec": {
   "display_name": ".venv",
   "language": "python",
   "name": "python3"
  },
  "language_info": {
   "codemirror_mode": {
    "name": "ipython",
    "version": 3
   },
   "file_extension": ".py",
   "mimetype": "text/x-python",
   "name": "python",
   "nbconvert_exporter": "python",
   "pygments_lexer": "ipython3",
   "version": "3.11.11"
  }
 },
 "nbformat": 4,
 "nbformat_minor": 5
}
