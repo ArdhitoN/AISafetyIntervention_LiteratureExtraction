{
 "cells": [
  {
   "cell_type": "markdown",
   "metadata": {},
   "source": [
    "# Cosine-Based Embedding Matcher for NodeViewForComparison\n",
    "\n",
    "This notebook implements a cosine similarity-based matcher for `NodeViewForComparison` objects.\n",
    "The implementation:\n",
    "1. Applies a generic encoder to create embeddings for all nodes\n",
    "2. Compares nodes using cosine similarity\n",
    "3. Groups similar nodes based on a threshold\n",
    "4. Provides visualization of similarity matrices and groups\n"
   ]
  },
  {
   "cell_type": "code",
   "execution_count": 2,
   "metadata": {},
   "outputs": [
    {
     "name": "stderr",
     "output_type": "stream",
     "text": [
      "/Users/shipsy/Documents/research/AISafetyIntervention_LiteratureExtraction/.venv/lib/python3.11/site-packages/tqdm/auto.py:21: TqdmWarning: IProgress not found. Please update jupyter and ipywidgets. See https://ipywidgets.readthedocs.io/en/stable/user_install.html\n",
      "  from .autonotebook import tqdm as notebook_tqdm\n"
     ]
    },
    {
     "name": "stdout",
     "output_type": "stream",
     "text": [
      "✓ All packages imported successfully\n"
     ]
    }
   ],
   "source": [
    "# Import required packages (managed by uv.lock)\n",
    "import json\n",
    "import numpy as np\n",
    "from pathlib import Path\n",
    "from typing import Dict, List, Tuple, Optional\n",
    "import sys\n",
    "\n",
    "# ML and visualization imports\n",
    "from sentence_transformers import SentenceTransformer\n",
    "from sklearn.metrics.pairwise import cosine_similarity\n",
    "import matplotlib.pyplot as plt\n",
    "import seaborn as sns\n",
    "\n",
    "print(\"✓ All packages imported successfully\")"
   ]
  },
  {
   "cell_type": "code",
   "execution_count": null,
   "metadata": {},
   "outputs": [
    {
     "name": "stdout",
     "output_type": "stream",
     "text": [
      "✓ Local modules imported successfully\n"
     ]
    }
   ],
   "source": [
    "# Add the project path to import local modules\n",
    "project_root = Path().resolve()\n",
    "if str(project_root) not in sys.path:\n",
    "    sys.path.insert(0, str(project_root))\n",
    "\n",
    "# Import local types\n",
    "from ardhito.llm_assisted_graph_merging.src.merge_types import NodeViewForComparison  # noqa: E402\n",
    "\n",
    "# Set style\n",
    "plt.style.use(\"default\")\n",
    "sns.set_palette(\"husl\")\n",
    "\n",
    "print(\"✓ Local modules imported successfully\")"
   ]
  },
  {
   "cell_type": "markdown",
   "metadata": {},
   "source": [
    "## 1. Encoder Implementation\n",
    "\n",
    "We'll create a generic encoder that converts `NodeViewForComparison` objects into embeddings.\n"
   ]
  },
  {
   "cell_type": "code",
   "execution_count": 17,
   "metadata": {},
   "outputs": [],
   "source": [
    "class NodeEmbedding:\n",
    "    def __init__(self, embedding: np.ndarray, node_key: str):\n",
    "        self.embedding = embedding\n",
    "        self.node_key = node_key\n",
    "\n",
    "\n",
    "class NodeEncoder:\n",
    "    def __init__(self, model_name: str = \"all-MiniLM-L6-v2\"):\n",
    "        self.model = SentenceTransformer(model_name)\n",
    "        self.model_name = model_name\n",
    "\n",
    "    def extract_embedding_from_payload(self, path: str) -> NodeEmbedding:\n",
    "        node_pair_dict = json.load(open(path))\n",
    "        node_embeddings = {}\n",
    "        for key, node in node_pair_dict.items():\n",
    "            node_view = NodeViewForComparison(**node)\n",
    "            embedding = self.model.encode(node_view.text)\n",
    "            node_embeddings[key] = NodeEmbedding(embedding, key)\n",
    "        return node_embeddings"
   ]
  },
  {
   "cell_type": "code",
   "execution_count": 19,
   "metadata": {},
   "outputs": [],
   "source": [
    "node_encoder = NodeEncoder()\n",
    "result = node_encoder.extract_embedding_from_payload(\n",
    "    \"ardhito/llm_assisted_graph_merging/examples/outputs/walkthrough/index.json\"\n",
    ")"
   ]
  },
  {
   "cell_type": "markdown",
   "metadata": {},
   "source": [
    "## 2. Cosine Similarity Matcher\n",
    "\n",
    "Implementation of the cosine similarity matcher with threshold-based matching.\n"
   ]
  },
  {
   "cell_type": "code",
   "execution_count": 23,
   "metadata": {},
   "outputs": [
    {
     "name": "stdout",
     "output_type": "stream",
     "text": [
      "✓ CosineSimilarityMatcher implementation complete\n"
     ]
    }
   ],
   "source": [
    "class CosineSimilarityMatcher:\n",
    "    \"\"\"Cosine similarity matcher for node embeddings\"\"\"\n",
    "\n",
    "    def __init__(self, threshold: float = 0.8):\n",
    "        \"\"\"Initialize with similarity threshold\"\"\"\n",
    "        self.threshold = threshold\n",
    "        self.embeddings: Dict[str, NodeEmbedding] = {}\n",
    "        self.similarity_matrix: Optional[np.ndarray] = None\n",
    "        self.keys: List[str] = []\n",
    "\n",
    "    def add_embeddings(self, embeddings: Dict[str, NodeEmbedding]):\n",
    "        \"\"\"Add embeddings to the matcher\"\"\"\n",
    "        self.embeddings.update(embeddings)\n",
    "        self.keys = list(self.embeddings.keys())\n",
    "        self._compute_similarity_matrix()\n",
    "\n",
    "    def _compute_similarity_matrix(self):\n",
    "        \"\"\"Compute the full similarity matrix\"\"\"\n",
    "        if not self.embeddings:\n",
    "            return\n",
    "\n",
    "        # Extract embeddings in order\n",
    "        embedding_matrix = np.array(\n",
    "            [self.embeddings[key].embedding for key in self.keys]\n",
    "        )\n",
    "\n",
    "        # Compute cosine similarity\n",
    "        self.similarity_matrix = cosine_similarity(embedding_matrix)\n",
    "\n",
    "    def get_similarity(self, key_a: str, key_b: str) -> float:\n",
    "        \"\"\"Get similarity between two nodes\"\"\"\n",
    "        if key_a not in self.embeddings or key_b not in self.embeddings:\n",
    "            raise ValueError(f\"One or both keys not found: {key_a}, {key_b}\")\n",
    "\n",
    "        idx_a = self.keys.index(key_a)\n",
    "        idx_b = self.keys.index(key_b)\n",
    "\n",
    "        return self.similarity_matrix[idx_a, idx_b]\n",
    "\n",
    "    def is_match(self, key_a: str, key_b: str) -> bool:\n",
    "        \"\"\"Check if two nodes match based on threshold\"\"\"\n",
    "        return self.get_similarity(key_a, key_b) >= self.threshold\n",
    "\n",
    "    def find_matches(self, key: str) -> List[Tuple[str, float]]:\n",
    "        \"\"\"Find all matches for a given node\"\"\"\n",
    "        if key not in self.embeddings:\n",
    "            raise ValueError(f\"Key not found: {key}\")\n",
    "\n",
    "        idx = self.keys.index(key)\n",
    "        similarities = self.similarity_matrix[idx]\n",
    "\n",
    "        matches = []\n",
    "        for i, sim in enumerate(similarities):\n",
    "            if i != idx and sim >= self.threshold:  # Exclude self\n",
    "                matches.append((self.keys[i], sim))\n",
    "\n",
    "        # Sort by similarity descending\n",
    "        matches.sort(key=lambda x: x[1], reverse=True)\n",
    "        return matches\n",
    "\n",
    "    def get_top_similarities(self, key: str, top_k: int = 5) -> List[Tuple[str, float]]:\n",
    "        \"\"\"Get top k most similar nodes (excluding self)\"\"\"\n",
    "        if key not in self.embeddings:\n",
    "            raise ValueError(f\"Key not found: {key}\")\n",
    "\n",
    "        idx = self.keys.index(key)\n",
    "        similarities = self.similarity_matrix[idx]\n",
    "\n",
    "        # Get indices of top similarities (excluding self)\n",
    "        similarities_copy = similarities.copy()\n",
    "        similarities_copy[idx] = -1  # Exclude self\n",
    "\n",
    "        top_indices = np.argsort(similarities_copy)[-top_k:][::-1]\n",
    "\n",
    "        return [(self.keys[i], similarities[i]) for i in top_indices]\n",
    "\n",
    "\n",
    "print(\"✓ CosineSimilarityMatcher implementation complete\")"
   ]
  },
  {
   "cell_type": "code",
   "execution_count": 24,
   "metadata": {},
   "outputs": [
    {
     "data": {
      "text/plain": [
       "{'node_a': <__main__.NodeEmbedding at 0x15ab00e90>,\n",
       " 'node_b': <__main__.NodeEmbedding at 0x15ac67010>}"
      ]
     },
     "execution_count": 24,
     "metadata": {},
     "output_type": "execute_result"
    }
   ],
   "source": [
    "result"
   ]
  },
  {
   "cell_type": "code",
   "execution_count": 26,
   "metadata": {},
   "outputs": [],
   "source": [
    "cosine_similarity_matcher = CosineSimilarityMatcher()\n",
    "\n",
    "cosine_similarity_matcher.add_embeddings(result)"
   ]
  },
  {
   "cell_type": "code",
   "execution_count": 27,
   "metadata": {},
   "outputs": [
    {
     "data": {
      "text/plain": [
       "[('node_b', np.float32(0.7736163)), ('node_a', np.float32(0.99999994))]"
      ]
     },
     "execution_count": 27,
     "metadata": {},
     "output_type": "execute_result"
    }
   ],
   "source": [
    "cosine_similarity_matcher.get_top_similarities(\"node_a\", 5)"
   ]
  },
  {
   "cell_type": "markdown",
   "metadata": {},
   "source": [
    "## 3. Group Building Algorithm\n",
    "\n",
    "Iterative group building algorithm that creates groups of similar nodes.\n"
   ]
  },
  {
   "cell_type": "markdown",
   "metadata": {},
   "source": []
  },
  {
   "cell_type": "markdown",
   "metadata": {},
   "source": []
  }
 ],
 "metadata": {
  "kernelspec": {
   "display_name": ".venv",
   "language": "python",
   "name": "python3"
  },
  "language_info": {
   "codemirror_mode": {
    "name": "ipython",
    "version": 3
   },
   "file_extension": ".py",
   "mimetype": "text/x-python",
   "name": "python",
   "nbconvert_exporter": "python",
   "pygments_lexer": "ipython3",
   "version": "3.11.6"
  }
 },
 "nbformat": 4,
 "nbformat_minor": 2
}
